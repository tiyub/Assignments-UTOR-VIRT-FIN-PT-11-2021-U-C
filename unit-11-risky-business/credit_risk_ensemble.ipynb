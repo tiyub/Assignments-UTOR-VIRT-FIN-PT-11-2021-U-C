{
 "cells": [
  {
   "cell_type": "markdown",
   "metadata": {},
   "source": [
    "# Ensemble Learning\n",
    "\n",
    "## Initial Imports"
   ]
  },
  {
   "cell_type": "code",
   "execution_count": 1,
   "metadata": {},
   "outputs": [],
   "source": [
    "import warnings\n",
    "warnings.filterwarnings('ignore')"
   ]
  },
  {
   "cell_type": "code",
   "execution_count": 2,
   "metadata": {},
   "outputs": [],
   "source": [
    "import numpy as np\n",
    "import pandas as pd\n",
    "from pathlib import Path\n",
    "from collections import Counter"
   ]
  },
  {
   "cell_type": "code",
   "execution_count": 3,
   "metadata": {},
   "outputs": [],
   "source": [
    "from sklearn.metrics import balanced_accuracy_score\n",
    "from sklearn.metrics import confusion_matrix\n",
    "from imblearn.metrics import classification_report_imbalanced"
   ]
  },
  {
   "cell_type": "markdown",
   "metadata": {},
   "source": [
    "## Read the CSV and Perform Basic Data Cleaning"
   ]
  },
  {
   "cell_type": "code",
   "execution_count": 4,
   "metadata": {},
   "outputs": [
    {
     "data": {
      "text/html": [
       "<div>\n",
       "<style scoped>\n",
       "    .dataframe tbody tr th:only-of-type {\n",
       "        vertical-align: middle;\n",
       "    }\n",
       "\n",
       "    .dataframe tbody tr th {\n",
       "        vertical-align: top;\n",
       "    }\n",
       "\n",
       "    .dataframe thead th {\n",
       "        text-align: right;\n",
       "    }\n",
       "</style>\n",
       "<table border=\"1\" class=\"dataframe\">\n",
       "  <thead>\n",
       "    <tr style=\"text-align: right;\">\n",
       "      <th></th>\n",
       "      <th>loan_amnt</th>\n",
       "      <th>int_rate</th>\n",
       "      <th>installment</th>\n",
       "      <th>home_ownership</th>\n",
       "      <th>annual_inc</th>\n",
       "      <th>verification_status</th>\n",
       "      <th>issue_d</th>\n",
       "      <th>loan_status</th>\n",
       "      <th>pymnt_plan</th>\n",
       "      <th>dti</th>\n",
       "      <th>...</th>\n",
       "      <th>pct_tl_nvr_dlq</th>\n",
       "      <th>percent_bc_gt_75</th>\n",
       "      <th>pub_rec_bankruptcies</th>\n",
       "      <th>tax_liens</th>\n",
       "      <th>tot_hi_cred_lim</th>\n",
       "      <th>total_bal_ex_mort</th>\n",
       "      <th>total_bc_limit</th>\n",
       "      <th>total_il_high_credit_limit</th>\n",
       "      <th>hardship_flag</th>\n",
       "      <th>debt_settlement_flag</th>\n",
       "    </tr>\n",
       "  </thead>\n",
       "  <tbody>\n",
       "    <tr>\n",
       "      <th>0</th>\n",
       "      <td>10500.0</td>\n",
       "      <td>0.1719</td>\n",
       "      <td>375.35</td>\n",
       "      <td>RENT</td>\n",
       "      <td>66000.0</td>\n",
       "      <td>Source Verified</td>\n",
       "      <td>Mar-2019</td>\n",
       "      <td>low_risk</td>\n",
       "      <td>n</td>\n",
       "      <td>27.24</td>\n",
       "      <td>...</td>\n",
       "      <td>85.7</td>\n",
       "      <td>100.0</td>\n",
       "      <td>0.0</td>\n",
       "      <td>0.0</td>\n",
       "      <td>65687.0</td>\n",
       "      <td>38199.0</td>\n",
       "      <td>2000.0</td>\n",
       "      <td>61987.0</td>\n",
       "      <td>N</td>\n",
       "      <td>N</td>\n",
       "    </tr>\n",
       "    <tr>\n",
       "      <th>1</th>\n",
       "      <td>25000.0</td>\n",
       "      <td>0.2000</td>\n",
       "      <td>929.09</td>\n",
       "      <td>MORTGAGE</td>\n",
       "      <td>105000.0</td>\n",
       "      <td>Verified</td>\n",
       "      <td>Mar-2019</td>\n",
       "      <td>low_risk</td>\n",
       "      <td>n</td>\n",
       "      <td>20.23</td>\n",
       "      <td>...</td>\n",
       "      <td>91.2</td>\n",
       "      <td>50.0</td>\n",
       "      <td>1.0</td>\n",
       "      <td>0.0</td>\n",
       "      <td>271427.0</td>\n",
       "      <td>60641.0</td>\n",
       "      <td>41200.0</td>\n",
       "      <td>49197.0</td>\n",
       "      <td>N</td>\n",
       "      <td>N</td>\n",
       "    </tr>\n",
       "    <tr>\n",
       "      <th>2</th>\n",
       "      <td>20000.0</td>\n",
       "      <td>0.2000</td>\n",
       "      <td>529.88</td>\n",
       "      <td>MORTGAGE</td>\n",
       "      <td>56000.0</td>\n",
       "      <td>Verified</td>\n",
       "      <td>Mar-2019</td>\n",
       "      <td>low_risk</td>\n",
       "      <td>n</td>\n",
       "      <td>24.26</td>\n",
       "      <td>...</td>\n",
       "      <td>66.7</td>\n",
       "      <td>50.0</td>\n",
       "      <td>0.0</td>\n",
       "      <td>0.0</td>\n",
       "      <td>60644.0</td>\n",
       "      <td>45684.0</td>\n",
       "      <td>7500.0</td>\n",
       "      <td>43144.0</td>\n",
       "      <td>N</td>\n",
       "      <td>N</td>\n",
       "    </tr>\n",
       "    <tr>\n",
       "      <th>3</th>\n",
       "      <td>10000.0</td>\n",
       "      <td>0.1640</td>\n",
       "      <td>353.55</td>\n",
       "      <td>RENT</td>\n",
       "      <td>92000.0</td>\n",
       "      <td>Verified</td>\n",
       "      <td>Mar-2019</td>\n",
       "      <td>low_risk</td>\n",
       "      <td>n</td>\n",
       "      <td>31.44</td>\n",
       "      <td>...</td>\n",
       "      <td>100.0</td>\n",
       "      <td>50.0</td>\n",
       "      <td>1.0</td>\n",
       "      <td>0.0</td>\n",
       "      <td>99506.0</td>\n",
       "      <td>68784.0</td>\n",
       "      <td>19700.0</td>\n",
       "      <td>76506.0</td>\n",
       "      <td>N</td>\n",
       "      <td>N</td>\n",
       "    </tr>\n",
       "    <tr>\n",
       "      <th>4</th>\n",
       "      <td>22000.0</td>\n",
       "      <td>0.1474</td>\n",
       "      <td>520.39</td>\n",
       "      <td>MORTGAGE</td>\n",
       "      <td>52000.0</td>\n",
       "      <td>Not Verified</td>\n",
       "      <td>Mar-2019</td>\n",
       "      <td>low_risk</td>\n",
       "      <td>n</td>\n",
       "      <td>18.76</td>\n",
       "      <td>...</td>\n",
       "      <td>100.0</td>\n",
       "      <td>0.0</td>\n",
       "      <td>0.0</td>\n",
       "      <td>0.0</td>\n",
       "      <td>219750.0</td>\n",
       "      <td>25919.0</td>\n",
       "      <td>27600.0</td>\n",
       "      <td>20000.0</td>\n",
       "      <td>N</td>\n",
       "      <td>N</td>\n",
       "    </tr>\n",
       "  </tbody>\n",
       "</table>\n",
       "<p>5 rows × 86 columns</p>\n",
       "</div>"
      ],
      "text/plain": [
       "   loan_amnt  int_rate  installment home_ownership  annual_inc  \\\n",
       "0    10500.0    0.1719       375.35           RENT     66000.0   \n",
       "1    25000.0    0.2000       929.09       MORTGAGE    105000.0   \n",
       "2    20000.0    0.2000       529.88       MORTGAGE     56000.0   \n",
       "3    10000.0    0.1640       353.55           RENT     92000.0   \n",
       "4    22000.0    0.1474       520.39       MORTGAGE     52000.0   \n",
       "\n",
       "  verification_status   issue_d loan_status pymnt_plan    dti  ...  \\\n",
       "0     Source Verified  Mar-2019    low_risk          n  27.24  ...   \n",
       "1            Verified  Mar-2019    low_risk          n  20.23  ...   \n",
       "2            Verified  Mar-2019    low_risk          n  24.26  ...   \n",
       "3            Verified  Mar-2019    low_risk          n  31.44  ...   \n",
       "4        Not Verified  Mar-2019    low_risk          n  18.76  ...   \n",
       "\n",
       "   pct_tl_nvr_dlq  percent_bc_gt_75  pub_rec_bankruptcies  tax_liens  \\\n",
       "0            85.7             100.0                   0.0        0.0   \n",
       "1            91.2              50.0                   1.0        0.0   \n",
       "2            66.7              50.0                   0.0        0.0   \n",
       "3           100.0              50.0                   1.0        0.0   \n",
       "4           100.0               0.0                   0.0        0.0   \n",
       "\n",
       "   tot_hi_cred_lim  total_bal_ex_mort total_bc_limit  \\\n",
       "0          65687.0            38199.0         2000.0   \n",
       "1         271427.0            60641.0        41200.0   \n",
       "2          60644.0            45684.0         7500.0   \n",
       "3          99506.0            68784.0        19700.0   \n",
       "4         219750.0            25919.0        27600.0   \n",
       "\n",
       "   total_il_high_credit_limit  hardship_flag  debt_settlement_flag  \n",
       "0                     61987.0              N                     N  \n",
       "1                     49197.0              N                     N  \n",
       "2                     43144.0              N                     N  \n",
       "3                     76506.0              N                     N  \n",
       "4                     20000.0              N                     N  \n",
       "\n",
       "[5 rows x 86 columns]"
      ]
     },
     "execution_count": 4,
     "metadata": {},
     "output_type": "execute_result"
    }
   ],
   "source": [
    "# Load the data\n",
    "file_path = Path('Resources/LoanStats_2019Q1.csv')\n",
    "df = pd.read_csv(file_path)\n",
    "\n",
    "# Preview the data\n",
    "df.head()"
   ]
  },
  {
   "cell_type": "markdown",
   "metadata": {},
   "source": [
    "## Split the Data into Training and Testing"
   ]
  },
  {
   "cell_type": "code",
   "execution_count": 5,
   "metadata": {},
   "outputs": [],
   "source": [
    "# Create our features\n",
    "X=df.drop(columns='loan_status')\n",
    "X=pd.get_dummies(X)\n",
    "\n",
    "# Create our target\n",
    "y=df['loan_status'].to_frame()"
   ]
  },
  {
   "cell_type": "code",
   "execution_count": 6,
   "metadata": {},
   "outputs": [
    {
     "data": {
      "text/html": [
       "<div>\n",
       "<style scoped>\n",
       "    .dataframe tbody tr th:only-of-type {\n",
       "        vertical-align: middle;\n",
       "    }\n",
       "\n",
       "    .dataframe tbody tr th {\n",
       "        vertical-align: top;\n",
       "    }\n",
       "\n",
       "    .dataframe thead th {\n",
       "        text-align: right;\n",
       "    }\n",
       "</style>\n",
       "<table border=\"1\" class=\"dataframe\">\n",
       "  <thead>\n",
       "    <tr style=\"text-align: right;\">\n",
       "      <th></th>\n",
       "      <th>loan_amnt</th>\n",
       "      <th>int_rate</th>\n",
       "      <th>installment</th>\n",
       "      <th>annual_inc</th>\n",
       "      <th>dti</th>\n",
       "      <th>delinq_2yrs</th>\n",
       "      <th>inq_last_6mths</th>\n",
       "      <th>open_acc</th>\n",
       "      <th>pub_rec</th>\n",
       "      <th>revol_bal</th>\n",
       "      <th>...</th>\n",
       "      <th>issue_d_Mar-2019</th>\n",
       "      <th>pymnt_plan_n</th>\n",
       "      <th>initial_list_status_f</th>\n",
       "      <th>initial_list_status_w</th>\n",
       "      <th>next_pymnt_d_Apr-2019</th>\n",
       "      <th>next_pymnt_d_May-2019</th>\n",
       "      <th>application_type_Individual</th>\n",
       "      <th>application_type_Joint App</th>\n",
       "      <th>hardship_flag_N</th>\n",
       "      <th>debt_settlement_flag_N</th>\n",
       "    </tr>\n",
       "  </thead>\n",
       "  <tbody>\n",
       "    <tr>\n",
       "      <th>count</th>\n",
       "      <td>68817.000000</td>\n",
       "      <td>68817.000000</td>\n",
       "      <td>68817.000000</td>\n",
       "      <td>6.881700e+04</td>\n",
       "      <td>68817.000000</td>\n",
       "      <td>68817.000000</td>\n",
       "      <td>68817.000000</td>\n",
       "      <td>68817.000000</td>\n",
       "      <td>68817.000000</td>\n",
       "      <td>68817.000000</td>\n",
       "      <td>...</td>\n",
       "      <td>68817.000000</td>\n",
       "      <td>68817.0</td>\n",
       "      <td>68817.000000</td>\n",
       "      <td>68817.000000</td>\n",
       "      <td>68817.000000</td>\n",
       "      <td>68817.000000</td>\n",
       "      <td>68817.000000</td>\n",
       "      <td>68817.000000</td>\n",
       "      <td>68817.0</td>\n",
       "      <td>68817.0</td>\n",
       "    </tr>\n",
       "    <tr>\n",
       "      <th>mean</th>\n",
       "      <td>16677.594562</td>\n",
       "      <td>0.127718</td>\n",
       "      <td>480.652863</td>\n",
       "      <td>8.821371e+04</td>\n",
       "      <td>21.778153</td>\n",
       "      <td>0.217766</td>\n",
       "      <td>0.497697</td>\n",
       "      <td>12.587340</td>\n",
       "      <td>0.126030</td>\n",
       "      <td>17604.142828</td>\n",
       "      <td>...</td>\n",
       "      <td>0.177238</td>\n",
       "      <td>1.0</td>\n",
       "      <td>0.123879</td>\n",
       "      <td>0.876121</td>\n",
       "      <td>0.383161</td>\n",
       "      <td>0.616839</td>\n",
       "      <td>0.860340</td>\n",
       "      <td>0.139660</td>\n",
       "      <td>1.0</td>\n",
       "      <td>1.0</td>\n",
       "    </tr>\n",
       "    <tr>\n",
       "      <th>std</th>\n",
       "      <td>10277.348590</td>\n",
       "      <td>0.048130</td>\n",
       "      <td>288.062432</td>\n",
       "      <td>1.155800e+05</td>\n",
       "      <td>20.199244</td>\n",
       "      <td>0.718367</td>\n",
       "      <td>0.758122</td>\n",
       "      <td>6.022869</td>\n",
       "      <td>0.336797</td>\n",
       "      <td>21835.880400</td>\n",
       "      <td>...</td>\n",
       "      <td>0.381873</td>\n",
       "      <td>0.0</td>\n",
       "      <td>0.329446</td>\n",
       "      <td>0.329446</td>\n",
       "      <td>0.486161</td>\n",
       "      <td>0.486161</td>\n",
       "      <td>0.346637</td>\n",
       "      <td>0.346637</td>\n",
       "      <td>0.0</td>\n",
       "      <td>0.0</td>\n",
       "    </tr>\n",
       "    <tr>\n",
       "      <th>min</th>\n",
       "      <td>1000.000000</td>\n",
       "      <td>0.060000</td>\n",
       "      <td>30.890000</td>\n",
       "      <td>4.000000e+01</td>\n",
       "      <td>0.000000</td>\n",
       "      <td>0.000000</td>\n",
       "      <td>0.000000</td>\n",
       "      <td>2.000000</td>\n",
       "      <td>0.000000</td>\n",
       "      <td>0.000000</td>\n",
       "      <td>...</td>\n",
       "      <td>0.000000</td>\n",
       "      <td>1.0</td>\n",
       "      <td>0.000000</td>\n",
       "      <td>0.000000</td>\n",
       "      <td>0.000000</td>\n",
       "      <td>0.000000</td>\n",
       "      <td>0.000000</td>\n",
       "      <td>0.000000</td>\n",
       "      <td>1.0</td>\n",
       "      <td>1.0</td>\n",
       "    </tr>\n",
       "    <tr>\n",
       "      <th>25%</th>\n",
       "      <td>9000.000000</td>\n",
       "      <td>0.088100</td>\n",
       "      <td>265.730000</td>\n",
       "      <td>5.000000e+04</td>\n",
       "      <td>13.890000</td>\n",
       "      <td>0.000000</td>\n",
       "      <td>0.000000</td>\n",
       "      <td>8.000000</td>\n",
       "      <td>0.000000</td>\n",
       "      <td>6293.000000</td>\n",
       "      <td>...</td>\n",
       "      <td>0.000000</td>\n",
       "      <td>1.0</td>\n",
       "      <td>0.000000</td>\n",
       "      <td>1.000000</td>\n",
       "      <td>0.000000</td>\n",
       "      <td>0.000000</td>\n",
       "      <td>1.000000</td>\n",
       "      <td>0.000000</td>\n",
       "      <td>1.0</td>\n",
       "      <td>1.0</td>\n",
       "    </tr>\n",
       "    <tr>\n",
       "      <th>50%</th>\n",
       "      <td>15000.000000</td>\n",
       "      <td>0.118000</td>\n",
       "      <td>404.560000</td>\n",
       "      <td>7.300000e+04</td>\n",
       "      <td>19.760000</td>\n",
       "      <td>0.000000</td>\n",
       "      <td>0.000000</td>\n",
       "      <td>11.000000</td>\n",
       "      <td>0.000000</td>\n",
       "      <td>12068.000000</td>\n",
       "      <td>...</td>\n",
       "      <td>0.000000</td>\n",
       "      <td>1.0</td>\n",
       "      <td>0.000000</td>\n",
       "      <td>1.000000</td>\n",
       "      <td>0.000000</td>\n",
       "      <td>1.000000</td>\n",
       "      <td>1.000000</td>\n",
       "      <td>0.000000</td>\n",
       "      <td>1.0</td>\n",
       "      <td>1.0</td>\n",
       "    </tr>\n",
       "    <tr>\n",
       "      <th>75%</th>\n",
       "      <td>24000.000000</td>\n",
       "      <td>0.155700</td>\n",
       "      <td>648.100000</td>\n",
       "      <td>1.040000e+05</td>\n",
       "      <td>26.660000</td>\n",
       "      <td>0.000000</td>\n",
       "      <td>1.000000</td>\n",
       "      <td>16.000000</td>\n",
       "      <td>0.000000</td>\n",
       "      <td>21735.000000</td>\n",
       "      <td>...</td>\n",
       "      <td>0.000000</td>\n",
       "      <td>1.0</td>\n",
       "      <td>0.000000</td>\n",
       "      <td>1.000000</td>\n",
       "      <td>1.000000</td>\n",
       "      <td>1.000000</td>\n",
       "      <td>1.000000</td>\n",
       "      <td>0.000000</td>\n",
       "      <td>1.0</td>\n",
       "      <td>1.0</td>\n",
       "    </tr>\n",
       "    <tr>\n",
       "      <th>max</th>\n",
       "      <td>40000.000000</td>\n",
       "      <td>0.308400</td>\n",
       "      <td>1676.230000</td>\n",
       "      <td>8.797500e+06</td>\n",
       "      <td>999.000000</td>\n",
       "      <td>18.000000</td>\n",
       "      <td>5.000000</td>\n",
       "      <td>72.000000</td>\n",
       "      <td>4.000000</td>\n",
       "      <td>587191.000000</td>\n",
       "      <td>...</td>\n",
       "      <td>1.000000</td>\n",
       "      <td>1.0</td>\n",
       "      <td>1.000000</td>\n",
       "      <td>1.000000</td>\n",
       "      <td>1.000000</td>\n",
       "      <td>1.000000</td>\n",
       "      <td>1.000000</td>\n",
       "      <td>1.000000</td>\n",
       "      <td>1.0</td>\n",
       "      <td>1.0</td>\n",
       "    </tr>\n",
       "  </tbody>\n",
       "</table>\n",
       "<p>8 rows × 95 columns</p>\n",
       "</div>"
      ],
      "text/plain": [
       "          loan_amnt      int_rate   installment    annual_inc           dti  \\\n",
       "count  68817.000000  68817.000000  68817.000000  6.881700e+04  68817.000000   \n",
       "mean   16677.594562      0.127718    480.652863  8.821371e+04     21.778153   \n",
       "std    10277.348590      0.048130    288.062432  1.155800e+05     20.199244   \n",
       "min     1000.000000      0.060000     30.890000  4.000000e+01      0.000000   \n",
       "25%     9000.000000      0.088100    265.730000  5.000000e+04     13.890000   \n",
       "50%    15000.000000      0.118000    404.560000  7.300000e+04     19.760000   \n",
       "75%    24000.000000      0.155700    648.100000  1.040000e+05     26.660000   \n",
       "max    40000.000000      0.308400   1676.230000  8.797500e+06    999.000000   \n",
       "\n",
       "        delinq_2yrs  inq_last_6mths      open_acc       pub_rec  \\\n",
       "count  68817.000000    68817.000000  68817.000000  68817.000000   \n",
       "mean       0.217766        0.497697     12.587340      0.126030   \n",
       "std        0.718367        0.758122      6.022869      0.336797   \n",
       "min        0.000000        0.000000      2.000000      0.000000   \n",
       "25%        0.000000        0.000000      8.000000      0.000000   \n",
       "50%        0.000000        0.000000     11.000000      0.000000   \n",
       "75%        0.000000        1.000000     16.000000      0.000000   \n",
       "max       18.000000        5.000000     72.000000      4.000000   \n",
       "\n",
       "           revol_bal  ...  issue_d_Mar-2019  pymnt_plan_n  \\\n",
       "count   68817.000000  ...      68817.000000       68817.0   \n",
       "mean    17604.142828  ...          0.177238           1.0   \n",
       "std     21835.880400  ...          0.381873           0.0   \n",
       "min         0.000000  ...          0.000000           1.0   \n",
       "25%      6293.000000  ...          0.000000           1.0   \n",
       "50%     12068.000000  ...          0.000000           1.0   \n",
       "75%     21735.000000  ...          0.000000           1.0   \n",
       "max    587191.000000  ...          1.000000           1.0   \n",
       "\n",
       "       initial_list_status_f  initial_list_status_w  next_pymnt_d_Apr-2019  \\\n",
       "count           68817.000000           68817.000000           68817.000000   \n",
       "mean                0.123879               0.876121               0.383161   \n",
       "std                 0.329446               0.329446               0.486161   \n",
       "min                 0.000000               0.000000               0.000000   \n",
       "25%                 0.000000               1.000000               0.000000   \n",
       "50%                 0.000000               1.000000               0.000000   \n",
       "75%                 0.000000               1.000000               1.000000   \n",
       "max                 1.000000               1.000000               1.000000   \n",
       "\n",
       "       next_pymnt_d_May-2019  application_type_Individual  \\\n",
       "count           68817.000000                 68817.000000   \n",
       "mean                0.616839                     0.860340   \n",
       "std                 0.486161                     0.346637   \n",
       "min                 0.000000                     0.000000   \n",
       "25%                 0.000000                     1.000000   \n",
       "50%                 1.000000                     1.000000   \n",
       "75%                 1.000000                     1.000000   \n",
       "max                 1.000000                     1.000000   \n",
       "\n",
       "       application_type_Joint App  hardship_flag_N  debt_settlement_flag_N  \n",
       "count                68817.000000          68817.0                 68817.0  \n",
       "mean                     0.139660              1.0                     1.0  \n",
       "std                      0.346637              0.0                     0.0  \n",
       "min                      0.000000              1.0                     1.0  \n",
       "25%                      0.000000              1.0                     1.0  \n",
       "50%                      0.000000              1.0                     1.0  \n",
       "75%                      0.000000              1.0                     1.0  \n",
       "max                      1.000000              1.0                     1.0  \n",
       "\n",
       "[8 rows x 95 columns]"
      ]
     },
     "execution_count": 6,
     "metadata": {},
     "output_type": "execute_result"
    }
   ],
   "source": [
    "X.describe()"
   ]
  },
  {
   "cell_type": "code",
   "execution_count": 7,
   "metadata": {},
   "outputs": [
    {
     "data": {
      "text/html": [
       "<div>\n",
       "<style scoped>\n",
       "    .dataframe tbody tr th:only-of-type {\n",
       "        vertical-align: middle;\n",
       "    }\n",
       "\n",
       "    .dataframe tbody tr th {\n",
       "        vertical-align: top;\n",
       "    }\n",
       "\n",
       "    .dataframe thead th {\n",
       "        text-align: right;\n",
       "    }\n",
       "</style>\n",
       "<table border=\"1\" class=\"dataframe\">\n",
       "  <thead>\n",
       "    <tr style=\"text-align: right;\">\n",
       "      <th></th>\n",
       "      <th>loan_status</th>\n",
       "    </tr>\n",
       "  </thead>\n",
       "  <tbody>\n",
       "    <tr>\n",
       "      <th>count</th>\n",
       "      <td>68817</td>\n",
       "    </tr>\n",
       "    <tr>\n",
       "      <th>unique</th>\n",
       "      <td>2</td>\n",
       "    </tr>\n",
       "    <tr>\n",
       "      <th>top</th>\n",
       "      <td>low_risk</td>\n",
       "    </tr>\n",
       "    <tr>\n",
       "      <th>freq</th>\n",
       "      <td>68470</td>\n",
       "    </tr>\n",
       "  </tbody>\n",
       "</table>\n",
       "</div>"
      ],
      "text/plain": [
       "       loan_status\n",
       "count        68817\n",
       "unique           2\n",
       "top       low_risk\n",
       "freq         68470"
      ]
     },
     "execution_count": 7,
     "metadata": {},
     "output_type": "execute_result"
    }
   ],
   "source": [
    "# r: view y df created cell: 8 line 6\n",
    "y.describe()"
   ]
  },
  {
   "cell_type": "code",
   "execution_count": 8,
   "metadata": {},
   "outputs": [
    {
     "data": {
      "text/plain": [
       "low_risk     68470\n",
       "high_risk      347\n",
       "Name: loan_status, dtype: int64"
      ]
     },
     "execution_count": 8,
     "metadata": {},
     "output_type": "execute_result"
    }
   ],
   "source": [
    "# Check the balance of our target values\n",
    "y['loan_status'].value_counts()"
   ]
  },
  {
   "cell_type": "code",
   "execution_count": 9,
   "metadata": {},
   "outputs": [
    {
     "data": {
      "text/plain": [
       "(51612, 95)"
      ]
     },
     "execution_count": 9,
     "metadata": {},
     "output_type": "execute_result"
    }
   ],
   "source": [
    "# Split the X and y into X_train, X_test, y_train, y_test\n",
    "from sklearn.model_selection import train_test_split\n",
    "\n",
    "# Create X_train, X_test, y_train, y_test\n",
    "X_train,X_test,y_train,y_test=train_test_split(\n",
    "    X, \n",
    "    y, \n",
    "    random_state=1\n",
    ")\n",
    "\n",
    "# r: view X_train\n",
    "X_train.shape"
   ]
  },
  {
   "cell_type": "markdown",
   "metadata": {},
   "source": [
    "## Data Pre-Processing\n",
    "\n",
    "Scale the training and testing data using the `StandardScaler` from `sklearn`. Remember that when scaling the data, you only scale the features data (`X_train` and `X_testing`)."
   ]
  },
  {
   "cell_type": "code",
   "execution_count": 10,
   "metadata": {},
   "outputs": [],
   "source": [
    "# Create the StandardScaler instance\n",
    "from sklearn.preprocessing import StandardScaler\n",
    "\n",
    "standard_scaler=StandardScaler()"
   ]
  },
  {
   "cell_type": "code",
   "execution_count": 11,
   "metadata": {},
   "outputs": [],
   "source": [
    "# Fit the Standard Scaler with the training data\n",
    "# When fitting scaling functions, only train on the training dataset\n",
    "X_scaler=standard_scaler.fit(X_train)"
   ]
  },
  {
   "cell_type": "code",
   "execution_count": 12,
   "metadata": {},
   "outputs": [],
   "source": [
    "# Scale the training and testing data\n",
    "X_train_scaled=X_scaler.transform(X_train)\n",
    "X_test_scaled=X_scaler.transform(X_test)"
   ]
  },
  {
   "cell_type": "markdown",
   "metadata": {},
   "source": [
    "## Ensemble Learners\n",
    "\n",
    "In this section, you will compare two ensemble algorithms to determine which algorithm results in the best performance. You will train a Balanced Random Forest Classifier and an Easy Ensemble classifier . For each algorithm, be sure to complete the folliowing steps:\n",
    "\n",
    "1. Train the model using the training data. \n",
    "2. Calculate the balanced accuracy score from sklearn.metrics.\n",
    "3. Display the confusion matrix from sklearn.metrics.\n",
    "4. Generate a classication report using the `imbalanced_classification_report` from imbalanced-learn.\n",
    "5. For the Balanced Random Forest Classifier only, print the feature importance sorted in descending order (most important feature to least important) along with the feature score\n",
    "\n",
    "Note: Use a random state of 1 for each algorithm to ensure consistency between tests"
   ]
  },
  {
   "cell_type": "markdown",
   "metadata": {},
   "source": [
    "### Balanced Random Forest Classifier"
   ]
  },
  {
   "cell_type": "code",
   "execution_count": 13,
   "metadata": {},
   "outputs": [
    {
     "data": {
      "text/plain": [
       "BalancedRandomForestClassifier(random_state=1)"
      ]
     },
     "execution_count": 13,
     "metadata": {},
     "output_type": "execute_result"
    }
   ],
   "source": [
    "# Resample the training data with the BalancedRandomForestClassifier\n",
    "from imblearn.ensemble import BalancedRandomForestClassifier\n",
    "\n",
    "brf_model=BalancedRandomForestClassifier(n_estimators=100,random_state=1)\n",
    "brf_model.fit(X_train,y_train)"
   ]
  },
  {
   "cell_type": "code",
   "execution_count": 14,
   "metadata": {},
   "outputs": [
    {
     "data": {
      "text/plain": [
       "0.5"
      ]
     },
     "execution_count": 14,
     "metadata": {},
     "output_type": "execute_result"
    }
   ],
   "source": [
    "# Calculated the balanced accuracy score\n",
    "y_pred=brf_model.predict(X_test_scaled)\n",
    "balanced_accuracy_score(y_test,y_pred)"
   ]
  },
  {
   "cell_type": "code",
   "execution_count": 15,
   "metadata": {},
   "outputs": [
    {
     "data": {
      "text/plain": [
       "array([[  101,     0],\n",
       "       [17104,     0]])"
      ]
     },
     "execution_count": 15,
     "metadata": {},
     "output_type": "execute_result"
    }
   ],
   "source": [
    "# Display the confusion matrix\n",
    "confusion_matrix(y_test, y_pred)"
   ]
  },
  {
   "cell_type": "code",
   "execution_count": 16,
   "metadata": {},
   "outputs": [
    {
     "name": "stdout",
     "output_type": "stream",
     "text": [
      "                   pre       rec       spe        f1       geo       iba       sup\n",
      "\n",
      "  high_risk   0.005870  1.000000  0.000000  0.011672  0.000000  0.000000       101\n",
      "   low_risk   0.000000  0.000000  1.000000  0.000000  0.000000  0.000000     17104\n",
      "\n",
      "avg / total   0.000034  0.005870  0.994130  0.000069  0.000000  0.000000     17205\n",
      "\n"
     ]
    }
   ],
   "source": [
    "# Print the imbalanced classification report\n",
    "from imblearn.metrics import classification_report_imbalanced\n",
    "\n",
    "print(classification_report_imbalanced(y_test,y_pred,digits=6))"
   ]
  },
  {
   "cell_type": "code",
   "execution_count": 17,
   "metadata": {},
   "outputs": [
    {
     "data": {
      "text/plain": [
       "[(0.07876809003486353, 'total_rec_prncp'),\n",
       " (0.05883806887524815, 'total_pymnt'),\n",
       " (0.05625613759225244, 'total_pymnt_inv'),\n",
       " (0.05355513093134745, 'total_rec_int'),\n",
       " (0.0500331813446525, 'last_pymnt_amnt'),\n",
       " (0.02966959508700077, 'int_rate'),\n",
       " (0.021129125328012987, 'issue_d_Jan-2019'),\n",
       " (0.01980242888931366, 'installment'),\n",
       " (0.01747062730041245, 'dti'),\n",
       " (0.016858293184471483, 'out_prncp_inv'),\n",
       " (0.01641297102011915, 'total_bal_ex_mort'),\n",
       " (0.015220714904737209, 'mths_since_recent_inq'),\n",
       " (0.015115240704562424, 'issue_d_Mar-2019'),\n",
       " (0.014926655663448373, 'revol_bal'),\n",
       " (0.014899352873994727, 'max_bal_bc'),\n",
       " (0.014881069023035237, 'out_prncp'),\n",
       " (0.014859446582326507, 'mo_sin_old_rev_tl_op'),\n",
       " (0.014832564501144122, 'annual_inc'),\n",
       " (0.014613819728800227, 'bc_util'),\n",
       " (0.014487685026878092, 'tot_hi_cred_lim'),\n",
       " (0.013921085423763812, 'mo_sin_old_il_acct'),\n",
       " (0.013534131593418711, 'mths_since_rcnt_il'),\n",
       " (0.013364759441576994, 'total_rev_hi_lim'),\n",
       " (0.01332289882475225, 'avg_cur_bal'),\n",
       " (0.013265926832893358, 'bc_open_to_buy'),\n",
       " (0.01311545089813887, 'il_util'),\n",
       " (0.01304530062898567, 'total_bc_limit'),\n",
       " (0.0130446065288952, 'all_util'),\n",
       " (0.013030046723135838, 'pct_tl_nvr_dlq'),\n",
       " (0.012855901280381887, 'tot_cur_bal'),\n",
       " (0.01279908506759016, 'total_il_high_credit_limit'),\n",
       " (0.012773576514405109, 'inq_last_12m'),\n",
       " (0.011968994260747247, 'total_bal_il'),\n",
       " (0.010982948025240226, 'mo_sin_rcnt_tl'),\n",
       " (0.010579906006851516, 'loan_amnt'),\n",
       " (0.010575363106694519, 'mths_since_recent_bc'),\n",
       " (0.010320067009550682, 'num_rev_accts'),\n",
       " (0.010209212170253059, 'total_acc'),\n",
       " (0.009753839399393215, 'open_acc_6m'),\n",
       " (0.009662050208879065, 'num_il_tl'),\n",
       " (0.009632472481996241, 'num_actv_rev_tl'),\n",
       " (0.009393346012674945, 'mo_sin_rcnt_rev_tl_op'),\n",
       " (0.00872448189550355, 'num_bc_tl'),\n",
       " (0.008628938824946404, 'num_sats'),\n",
       " (0.008330966254402506, 'num_op_rev_tl'),\n",
       " (0.007570544824579072, 'num_bc_sats'),\n",
       " (0.007548811505974241, 'num_tl_op_past_12m'),\n",
       " (0.007489717491934961, 'open_act_il'),\n",
       " (0.007382231721841728, 'open_acc'),\n",
       " (0.007272665006598051, 'num_rev_tl_bal_gt_0'),\n",
       " (0.006998827313196186, 'total_rec_late_fee'),\n",
       " (0.006866662924995743, 'num_actv_bc_tl'),\n",
       " (0.006714495620628373, 'acc_open_past_24mths'),\n",
       " (0.006561432872333855, 'open_il_24m'),\n",
       " (0.006240598451492287, 'inq_fi'),\n",
       " (0.006216409633238659, 'inq_last_6mths'),\n",
       " (0.0061708920490257954, 'mort_acc'),\n",
       " (0.006083218608279307, 'total_cu_tl'),\n",
       " (0.005640206440873574, 'issue_d_Feb-2019'),\n",
       " (0.005634546230136711, 'open_rv_24m'),\n",
       " (0.005131046989565006, 'percent_bc_gt_75'),\n",
       " (0.005106000423451099, 'next_pymnt_d_Apr-2019'),\n",
       " (0.005036652777545191, 'next_pymnt_d_May-2019'),\n",
       " (0.004860024796675963, 'open_il_12m'),\n",
       " (0.004198582835532627, 'tot_coll_amt'),\n",
       " (0.004018916067963884, 'open_rv_12m'),\n",
       " (0.0037571920083085985, 'num_accts_ever_120_pd'),\n",
       " (0.003082852259926947, 'delinq_2yrs'),\n",
       " (0.0029133221443170495, 'home_ownership_RENT'),\n",
       " (0.002824523629114469, 'home_ownership_OWN'),\n",
       " (0.002204946377565813, 'verification_status_Not Verified'),\n",
       " (0.0020912385738361574, 'application_type_Joint App'),\n",
       " (0.002015258269512615, 'pub_rec'),\n",
       " (0.0019325773153555006, 'verification_status_Verified'),\n",
       " (0.001901604006185586, 'application_type_Individual'),\n",
       " (0.0015046400907840708, 'verification_status_Source Verified'),\n",
       " (0.0014589723334940362, 'home_ownership_MORTGAGE'),\n",
       " (0.0013727925120781853, 'pub_rec_bankruptcies'),\n",
       " (0.0011520703643731528, 'initial_list_status_w'),\n",
       " (0.0011005704165634263, 'initial_list_status_f'),\n",
       " (0.0009956935704327383, 'num_tl_90g_dpd_24m'),\n",
       " (0.0007150315534652695, 'collections_12_mths_ex_med'),\n",
       " (0.0004955956183545533, 'home_ownership_ANY'),\n",
       " (0.0002730803587770788, 'chargeoff_within_12_mths'),\n",
       " (0.0, 'tax_liens'),\n",
       " (0.0, 'recoveries'),\n",
       " (0.0, 'pymnt_plan_n'),\n",
       " (0.0, 'policy_code'),\n",
       " (0.0, 'num_tl_30dpd'),\n",
       " (0.0, 'num_tl_120dpd_2m'),\n",
       " (0.0, 'hardship_flag_N'),\n",
       " (0.0, 'delinq_amnt'),\n",
       " (0.0, 'debt_settlement_flag_N'),\n",
       " (0.0, 'collection_recovery_fee'),\n",
       " (0.0, 'acc_now_delinq')]"
      ]
     },
     "execution_count": 17,
     "metadata": {},
     "output_type": "execute_result"
    }
   ],
   "source": [
    "# List the features sorted in descending order by feature importance\n",
    "importances = brf_model.feature_importances_\n",
    "importances_ordered = sorted(zip(brf_model.feature_importances_, X.columns), reverse=True)\n",
    "\n",
    "importances_ordered"
   ]
  },
  {
   "cell_type": "markdown",
   "metadata": {},
   "source": [
    "### Easy Ensemble Classifier"
   ]
  },
  {
   "cell_type": "code",
   "execution_count": 18,
   "metadata": {},
   "outputs": [
    {
     "data": {
      "text/plain": [
       "EasyEnsembleClassifier(n_estimators=100, random_state=1)"
      ]
     },
     "execution_count": 18,
     "metadata": {},
     "output_type": "execute_result"
    }
   ],
   "source": [
    "# Train the Classifier\n",
    "from imblearn.ensemble import EasyEnsembleClassifier\n",
    "\n",
    "eec_model=EasyEnsembleClassifier(n_estimators=100,random_state=1)\n",
    "eec_model.fit(X_train,y_train)"
   ]
  },
  {
   "cell_type": "code",
   "execution_count": 22,
   "metadata": {},
   "outputs": [
    {
     "data": {
      "text/plain": [
       "0.5"
      ]
     },
     "execution_count": 22,
     "metadata": {},
     "output_type": "execute_result"
    }
   ],
   "source": [
    "# Calculated the balanced accuracy score\n",
    "y_pred=eec_model.predict(X_test_scaled)\n",
    "balanced_accuracy_score(y_test,y_pred)"
   ]
  },
  {
   "cell_type": "code",
   "execution_count": 20,
   "metadata": {},
   "outputs": [],
   "source": [
    "# Display the confusion matrix\n",
    "confusion_matrix(y_test, y_pred)"
   ]
  },
  {
   "cell_type": "code",
   "execution_count": 23,
   "metadata": {},
   "outputs": [
    {
     "name": "stdout",
     "output_type": "stream",
     "text": [
      "                   pre       rec       spe        f1       geo       iba       sup\n",
      "\n",
      "  high_risk   0.005870  1.000000  0.000000  0.011672  0.000000  0.000000       101\n",
      "   low_risk   0.000000  0.000000  1.000000  0.000000  0.000000  0.000000     17104\n",
      "\n",
      "avg / total   0.000034  0.005870  0.994130  0.000069  0.000000  0.000000     17205\n",
      "\n"
     ]
    }
   ],
   "source": [
    "# Print the imbalanced classification report\n",
    "print(classification_report_imbalanced(y_test,y_pred,digits=6))"
   ]
  },
  {
   "cell_type": "markdown",
   "metadata": {},
   "source": [
    "# Final Questions\n",
    "\n",
    "## Summary.md, responses to analsysis questions and conclusions are forthcoming as insight/code corrections are commited. Seeking advice from Instructors. \n",
    "\n",
    "1. Which model had the best balanced accuracy score?\n",
    "\n",
    "    YOUR ANSWER HERE.\n",
    "\n",
    "2. Which model had the best recall score?\n",
    "\n",
    "    YOUR ANSWER HERE.\n",
    "\n",
    "3. Which model had the best geometric mean score?\n",
    "\n",
    "    YOUR ANSWER HERE.\n",
    "\n",
    "4. What are the top three features?\n",
    "\n",
    "    YOUR ANSWER HERE."
   ]
  }
 ],
 "metadata": {
  "interpreter": {
   "hash": "1ae1e6aebd3ab861a1e075e0cbdd782ba21a4652d11efd501a20b4783442f92e"
  },
  "kernelspec": {
   "display_name": "Python 3.7.7 64-bit ('dev': conda)",
   "language": "python",
   "name": "python3"
  },
  "language_info": {
   "codemirror_mode": {
    "name": "ipython",
    "version": 3
   },
   "file_extension": ".py",
   "mimetype": "text/x-python",
   "name": "python",
   "nbconvert_exporter": "python",
   "pygments_lexer": "ipython3",
   "version": "3.7.12"
  }
 },
 "nbformat": 4,
 "nbformat_minor": 4
}
