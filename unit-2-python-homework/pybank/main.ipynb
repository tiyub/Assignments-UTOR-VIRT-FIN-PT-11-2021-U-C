{
 "cells": [
  {
   "cell_type": "code",
   "execution_count": 1,
   "id": "c7f2ee09-d035-4214-b4a4-609b7c8d5aa2",
   "metadata": {},
   "outputs": [],
   "source": [
    "#Create a Python script that analyzes the records to calculate each of the following:\n",
    "#1. the total number of months included in the dataset.\n",
    "#2. The net total amount of Profit/Losses over the entire period.\n",
    "#3. The average of the changes in Profit/Losses over the entire period.\n",
    "#4 The greatest increase in profits (date and amount) over the entire period.\n",
    "#5 The greatest decrease in losses (date and amount) over the entire period.\n",
    "#\n",
    "#Resulting analysis should look similar to the following:\n",
    "\n",
    "#  Financial Analysis\n",
    "#  ----------------------------\n",
    "#  Total Months: 86\n",
    "#  Total: $38382578\n",
    "#  Average  Change: $-2315.12\n",
    "#  Greatest Increase in Profits: Feb-2012 ($1926159)\n",
    "#  Greatest Decrease in Profits: Sep-2013 ($-2196167)"
   ]
  },
  {
   "cell_type": "code",
   "execution_count": 4,
   "id": "dcb055a7-2bbb-42e3-a97e-41f6077b7a05",
   "metadata": {},
   "outputs": [],
   "source": [
    "#Importing the necessary modules/libraries\n",
    "from pathlib import Path\n",
    "import csv\n",
    "\n",
    "# Set the file path\n",
    "csvpath = Path('resources/budget_data.csv')\n",
    "\n",
    "# vars\n",
    "month_count = 0\n",
    "month_list = []\n",
    "\n",
    "# Open the csv file as an object\n",
    "with open(csvpath) as csvfile:\n",
    "    csvreader = csv.reader(csvfile, delimiter = \",\")\n",
    "\n",
    "    # Read the header row first (skip this step if there is no header)\n",
    "    csv_header = next(csvreader)\n",
    "    # Print the header, verify var declaration\n",
    "    # print(csv_header)\n",
    "    \n",
    "\n",
    "\n",
    "#1. the total number of months included in the dataset.\n",
    "\n",
    "# exppected output:\n",
    "# Total Months: 86\n",
    "\n",
    "    # Read each row of data after the header\n",
    "    for row in csvreader:\n",
    "        \n",
    "        # total months counted\n",
    "        month_count += 1\n",
    "\n",
    "        # track months counted 'month_count' in var --> month_list\n",
    "        month_list.append(row[0])"
   ]
  },
  {
   "cell_type": "code",
   "execution_count": null,
   "id": "79a2c713-bed5-4185-a428-7bc9f03cdea6",
   "metadata": {},
   "outputs": [],
   "source": [
    "#2. The net total amount of Profit/Losses over the entire period.\n",
    "\n",
    "# target output:\n",
    "# Total: $38382578"
   ]
  },
  {
   "cell_type": "code",
   "execution_count": null,
   "id": "6cc22eaa-f62e-492f-926f-41153d2d7f9d",
   "metadata": {},
   "outputs": [],
   "source": [
    "#3. The average of the changes in Profit/Losses over the entire period.\n",
    "\n",
    "# target output:\n",
    "# Average Change: $-2315.12"
   ]
  },
  {
   "cell_type": "code",
   "execution_count": null,
   "id": "1fe8d466-9872-4e45-b367-18339c4d4ee9",
   "metadata": {},
   "outputs": [],
   "source": [
    "#4 The greatest increase in profits (date and amount) over the entire period.\n",
    "\n",
    "# target output:\n",
    "#  Greatest Increase in Profits: Feb-2012 ($1926159)"
   ]
  },
  {
   "cell_type": "code",
   "execution_count": null,
   "id": "ab10d7e9-d47e-47d6-8091-b3962bfc3ca0",
   "metadata": {},
   "outputs": [],
   "source": [
    "#5 The greatest decrease in losses (date and amount) over the entire period.\n",
    "\n",
    "# target output:\n",
    "#  Greatest Decrease in Profits: Sep-2013 ($-2196167)"
   ]
  },
  {
   "cell_type": "code",
   "execution_count": 3,
   "id": "89c3815c-a4c6-47a7-aff8-1125cd5fe57a",
   "metadata": {},
   "outputs": [
    {
     "name": "stdout",
     "output_type": "stream",
     "text": [
      "Total Months: 86\n"
     ]
    }
   ],
   "source": [
    "# outputs section\n",
    "\n",
    "print(f\"Total Months: {month_count}\")"
   ]
  }
 ],
 "metadata": {
  "kernelspec": {
   "display_name": "Python 3 (ipykernel)",
   "language": "python",
   "name": "python3"
  },
  "language_info": {
   "codemirror_mode": {
    "name": "ipython",
    "version": 3
   },
   "file_extension": ".py",
   "mimetype": "text/x-python",
   "name": "python",
   "nbconvert_exporter": "python",
   "pygments_lexer": "ipython3",
   "version": "3.7.10"
  }
 },
 "nbformat": 4,
 "nbformat_minor": 5
}
