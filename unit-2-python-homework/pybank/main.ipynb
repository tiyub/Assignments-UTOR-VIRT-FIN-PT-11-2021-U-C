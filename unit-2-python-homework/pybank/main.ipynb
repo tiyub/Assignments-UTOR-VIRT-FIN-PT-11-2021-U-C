{
 "cells": [
  {
   "cell_type": "code",
   "execution_count": 2,
   "id": "c7f2ee09-d035-4214-b4a4-609b7c8d5aa2",
   "metadata": {},
   "outputs": [],
   "source": [
    "#Create a Python script that analyzes the records to calculate each of the following:\n",
    "#1. the total number of months included in the dataset.\n",
    "#2. The net total amount of Profit/Losses over the entire period.\n",
    "#3. The average of the changes in Profit/Losses over the entire period.\n",
    "#4 The greatest increase in profits (date and amount) over the entire period.\n",
    "#5 The greatest decrease in losses (date and amount) over the entire period.\n",
    "#\n",
    "#Resulting analysis should look similar to the following:\n",
    "\n",
    "#  Financial Analysis\n",
    "#  ----------------------------\n",
    "#  Total Months: 86\n",
    "#  Total: $38382578\n",
    "#  Average  Change: $-2315.12\n",
    "#  Greatest Increase in Profits: Feb-2012 ($1926159)\n",
    "#  Greatest Decrease in Profits: Sep-2013 ($-2196167)"
   ]
  },
  {
   "cell_type": "code",
   "execution_count": 8,
   "id": "979c683f-877e-477f-8473-95bb5748e47e",
   "metadata": {},
   "outputs": [
    {
     "name": "stdout",
     "output_type": "stream",
     "text": [
      "Total Months: 87\n"
     ]
    }
   ],
   "source": [
    "#Importing the necessary modules/libraries\n",
    "from pathlib import Path\n",
    "import csv\n",
    "\n",
    "# Set the file path\n",
    "csvpath = Path('resources/budget_data.csv')\n",
    "\n",
    "# vars\n",
    "month_count = 0\n",
    "month_list = []\n",
    "\n",
    "# Open the csv file as an object\n",
    "with open(csvpath) as csvfile:\n",
    "    csvreader = csv.reader(csvfile, delimiter = \",\")\n",
    "\n",
    "    # Read the header row first (skip this step if there is no header)\n",
    "    csv_header = next(csvreader)\n",
    "    # Print the header, verify var declaration\n",
    "    # print(csv_header)\n",
    "    \n",
    "    # keep this test var for month_count\n",
    "    # month_count += 1\n",
    "    \n",
    "\n",
    "#1. the total number of months included in the dataset.\n",
    "\n",
    "# exppected output:\n",
    "# Total Months: 86\n",
    "\n",
    "    # Read each row of data after the header\n",
    "    for row in csvreader:\n",
    "        \n",
    "        # total months counted\n",
    "        month_count += 1\n",
    "\n",
    "        # track months counted 'month_count' in var --> month_list\n",
    "        month_list.append(row[0])\n",
    "        \n",
    "print(f\"Total Months: {str(month_count)}\")"
   ]
  },
  {
   "cell_type": "code",
   "execution_count": null,
   "id": "17532222-a286-4224-b176-28b2f1dc8398",
   "metadata": {},
   "outputs": [],
   "source": []
  }
 ],
 "metadata": {
  "kernelspec": {
   "display_name": "Python 3 (ipykernel)",
   "language": "python",
   "name": "python3"
  },
  "language_info": {
   "codemirror_mode": {
    "name": "ipython",
    "version": 3
   },
   "file_extension": ".py",
   "mimetype": "text/x-python",
   "name": "python",
   "nbconvert_exporter": "python",
   "pygments_lexer": "ipython3",
   "version": "3.7.10"
  }
 },
 "nbformat": 4,
 "nbformat_minor": 5
}
