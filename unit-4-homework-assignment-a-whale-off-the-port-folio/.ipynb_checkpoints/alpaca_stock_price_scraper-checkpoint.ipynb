{
 "cells": [
  {
   "cell_type": "markdown",
   "metadata": {},
   "source": [
    "# Alpaca API scarper  \n",
    "Based on class.ipynb titled: 'Demo: Normal Distribution of Stock Ticker Data'. All cred.: Instructor: Jasen Mackie, TAs: Rimi, Matthew, Mehdi and the Nov. 2021 cohort - all pulling to move forward."
   ]
  },
  {
   "cell_type": "code",
   "execution_count": null,
   "metadata": {},
   "outputs": [],
   "source": [
    "# Note: start_date, end_date and tz vars will be added to the simplify the customization for the user "
   ]
  },
  {
   "cell_type": "markdown",
   "metadata": {},
   "source": [
    "## Import Dependencies"
   ]
  },
  {
   "cell_type": "code",
   "execution_count": null,
   "metadata": {
    "tags": []
   },
   "outputs": [],
   "source": [
    "# Import libraries and dependencies\n",
    "\n",
    "import os\n",
    "import pandas as pd\n",
    "import alpaca_trade_api as tradeapi"
   ]
  },
  {
   "cell_type": "code",
   "execution_count": 2,
   "metadata": {
    "tags": []
   },
   "outputs": [],
   "source": [
    "# Load .env environment variables\n",
    "# .env must be in the same folder as this .ipynb\n",
    "\n",
    "from dotenv import load_dotenv\n",
    "\n",
    "load_dotenv()"
   ]
  },
  {
   "cell_type": "raw",
   "metadata": {
    "tags": []
   },
   "source": []
  },
  {
   "cell_type": "code",
   "execution_count": 3,
   "metadata": {
    "tags": []
   },
   "outputs": [],
   "source": [
    "# replace your_symbol_here with your ticker\n",
    "\n",
    "ticker_symbol = 'TSLA'"
   ]
  },
  {
   "cell_type": "code",
   "execution_count": 4,
   "metadata": {
    "tags": []
   },
   "outputs": [],
   "source": [
    "# Set Alpaca API key and secret\n",
    "\n",
    "alpaca_api_key = os.getenv('ALPACA_API_KEY')\n",
    "alpaca_secret_key = os.getenv('ALPACA_SECRET_KEY')"
   ]
  },
  {
   "cell_type": "code",
   "execution_count": 5,
   "metadata": {
    "tags": []
   },
   "outputs": [],
   "source": [
    "# Create the Alpaca API object\n",
    "\n",
    "alpaca = tradeapi.REST(\n",
    "    alpaca_api_key,\n",
    "    alpaca_secret_key,\n",
    "    api_version='v2'\n",
    ")"
   ]
  },
  {
   "cell_type": "code",
   "execution_count": 6,
   "metadata": {},
   "outputs": [
    {
     "name": "stdout",
     "output_type": "stream",
     "text": [
      "<class 'pandas.core.frame.DataFrame'>\n",
      "DatetimeIndex: 1000 entries, 2015-05-12 00:00:00-04:00 to 2019-05-01 00:00:00-04:00\n",
      "Data columns (total 5 columns):\n",
      " #   Column          Non-Null Count  Dtype  \n",
      "---  ------          --------------  -----  \n",
      " 0   (TSLA, open)    1000 non-null   float64\n",
      " 1   (TSLA, high)    1000 non-null   float64\n",
      " 2   (TSLA, low)     1000 non-null   float64\n",
      " 3   (TSLA, close)   1000 non-null   float64\n",
      " 4   (TSLA, volume)  1000 non-null   int64  \n",
      "dtypes: float64(4), int64(1)\n",
      "memory usage: 46.9 KB\n",
      "None\n",
      "\n",
      "                             TSLA                                   \n",
      "                             open    high     low     close   volume\n",
      "time                                                                \n",
      "2015-05-12 00:00:00-04:00  240.11  246.35  238.19  244.7500  5442974\n",
      "2015-05-13 00:00:00-04:00  247.61  248.30  242.25  243.1300  4612129\n",
      "2015-05-14 00:00:00-04:00  244.82  244.89  241.25  244.1000  2315073\n",
      "2015-05-15 00:00:00-04:00  243.93  249.40  242.50  248.8601  3866660\n",
      "2015-05-18 00:00:00-04:00  247.00  249.90  246.00  248.7200  2711040\n"
     ]
    }
   ],
   "source": [
    "# var ticker_symbol retrieves data for traget symbol\n",
    "ticker = [ticker_symbol]\n",
    "\n",
    "# Set timeframe to '1D'\n",
    "\n",
    "timeframe = '1D'\n",
    "\n",
    "# Set start and end datetimes of 1 year, between now and 365 days ago.\n",
    "\n",
    "start_date = pd.Timestamp('2015-05-01', tz='America/New_York').isoformat() # change dates to your range of interest using YYYY-MM-DD\n",
    "end_date = pd.Timestamp('2019-05-01', tz='America/New_York').isoformat() # change dates to your range of interest using YYYY-MM-DD\n",
    "\n",
    "# Get 1 year's worth of historical for target ticker symbol\n",
    "\n",
    "df_ticker = alpaca.get_barset(\n",
    "    ticker,\n",
    "    timeframe,\n",
    "    start=start_date,\n",
    "    end=end_date,\n",
    "    limit = 1000\n",
    ").df\n",
    "\n",
    "# Display sample data\n",
    "print(df_ticker.info())\n",
    "print()\n",
    "print(df_ticker.head())"
   ]
  },
  {
   "cell_type": "code",
   "execution_count": 7,
   "metadata": {},
   "outputs": [
    {
     "name": "stdout",
     "output_type": "stream",
     "text": [
      "<class 'pandas.core.frame.DataFrame'>\n",
      "Index: 1000 entries, 2015-05-12 to 2019-05-01\n",
      "Data columns (total 1 columns):\n",
      " #   Column  Non-Null Count  Dtype  \n",
      "---  ------  --------------  -----  \n",
      " 0   TSLA    1000 non-null   float64\n",
      "dtypes: float64(1)\n",
      "memory usage: 15.6+ KB\n",
      "None\n",
      "\n",
      "                TSLA\n",
      "2015-05-12  244.7500\n",
      "2015-05-13  243.1300\n",
      "2015-05-14  244.1000\n",
      "2015-05-15  248.8601\n",
      "2015-05-18  248.7200\n"
     ]
    }
   ],
   "source": [
    "# Create and empty DataFrame for closing prices\n",
    "\n",
    "df_closing_prices = pd.DataFrame()\n",
    "\n",
    "# Fetch the closing prices of target ticker symbol\n",
    "\n",
    "df_closing_prices[ticker_symbol] = df_ticker[ticker_symbol]['close']\n",
    "\n",
    "# Drop the time component of the date\n",
    "\n",
    "df_closing_prices.index = df_closing_prices.index.date\n",
    "\n",
    "# Display sample data\n",
    "print(df_closing_prices.info())\n",
    "print()\n",
    "print(df_closing_prices.head())"
   ]
  },
  {
   "cell_type": "markdown",
   "metadata": {},
   "source": [
    "## Change index to date - optional"
   ]
  },
  {
   "cell_type": "code",
   "execution_count": 8,
   "metadata": {},
   "outputs": [
    {
     "name": "stdout",
     "output_type": "stream",
     "text": [
      "<class 'pandas.core.frame.DataFrame'>\n",
      "Index: 1000 entries, 2015-05-12 to 2019-05-01\n",
      "Data columns (total 1 columns):\n",
      " #   Column  Non-Null Count  Dtype  \n",
      "---  ------  --------------  -----  \n",
      " 0   TSLA    1000 non-null   float64\n",
      "dtypes: float64(1)\n",
      "memory usage: 15.6+ KB\n",
      "None\n",
      "\n",
      "                TSLA\n",
      "date                \n",
      "2015-05-12  244.7500\n",
      "2015-05-13  243.1300\n",
      "2015-05-14  244.1000\n",
      "2015-05-15  248.8601\n",
      "2015-05-18  248.7200\n"
     ]
    }
   ],
   "source": [
    "index_name = df_closing_prices.index.names\n",
    "\n",
    "# to display the current index_name\n",
    "# print(index_name)\n",
    "\n",
    "df_closing_prices.index.names = ['date']\n",
    "\n",
    "# to reaname columns\n",
    "# df_daily_returns.rename(columns={'0': 'SP500 TSX 60'})\n",
    "\n",
    "# Display sample data\n",
    "print(df_closing_prices.info())\n",
    "print()\n",
    "print(df_closing_prices.head())"
   ]
  },
  {
   "cell_type": "markdown",
   "metadata": {},
   "source": [
    "## Save DataFrame to .csv"
   ]
  },
  {
   "cell_type": "code",
   "execution_count": 9,
   "metadata": {},
   "outputs": [],
   "source": [
    "# .csv output location is the same folder as this .ipynb\n",
    "\n",
    "# df_closing_prices.to_csv (r''ticker_symbol'_historical.csv', index = True, header=True)\n",
    "\n",
    "df_closing_prices.to_csv(ticker_symbol+'.csv', sep=',', index =True, header=True)"
   ]
  }
 ],
 "metadata": {
  "kernel_info": {
   "name": "python3"
  },
  "kernelspec": {
   "display_name": "Python 3 (ipykernel)",
   "language": "python",
   "name": "python3"
  },
  "language_info": {
   "codemirror_mode": {
    "name": "ipython",
    "version": 3
   },
   "file_extension": ".py",
   "mimetype": "text/x-python",
   "name": "python",
   "nbconvert_exporter": "python",
   "pygments_lexer": "ipython3",
   "version": "3.7.11"
  },
  "nteract": {
   "version": "0.12.3"
  }
 },
 "nbformat": 4,
 "nbformat_minor": 4
}
