{
 "cells": [
  {
   "cell_type": "markdown",
   "metadata": {},
   "source": [
    "# Alpaca API scarper  \n",
    "Based on class.ipynb titled: 'Demo: Normal Distribution of Stock Ticker Data'. All cred.: Instructor: Jasen Mackie, TAs: Rimi, Matthew, Mehdi and the Nov. 2021 cohort - all pulling to move forward."
   ]
  },
  {
   "cell_type": "markdown",
   "metadata": {},
   "source": [
    "## Import Dependencies"
   ]
  },
  {
   "cell_type": "code",
   "execution_count": null,
   "metadata": {
    "tags": []
   },
   "outputs": [],
   "source": [
    "# Import libraries and dependencies\n",
    "\n",
    "import os\n",
    "import pandas as pd\n",
    "import alpaca_trade_api as tradeapi"
   ]
  },
  {
   "cell_type": "code",
   "execution_count": null,
   "metadata": {
    "tags": []
   },
   "outputs": [],
   "source": [
    "# Load .env environment variables\n",
    "# .env must be in the same folder as this .ipynb\n",
    "\n",
    "from dotenv import load_dotenv\n",
    "\n",
    "load_dotenv()"
   ]
  },
  {
   "cell_type": "code",
   "execution_count": null,
   "metadata": {},
   "outputs": [],
   "source": [
    "# Note: start_date, end_date and tz vars will be added to the simplify the customization for the user \n",
    "\n",
    "# replace your_symbol_here with your ticker\n",
    "\n",
    "ticker_symbol = 'SHOP'"
   ]
  },
  {
   "cell_type": "code",
   "execution_count": null,
   "metadata": {},
   "outputs": [],
   "source": [
    "# Set Alpaca API key and secret\n",
    "\n",
    "alpaca_api_key = os.getenv('ALPACA_API_KEY')\n",
    "alpaca_secret_key = os.getenv('ALPACA_SECRET_KEY')"
   ]
  },
  {
   "cell_type": "code",
   "execution_count": null,
   "metadata": {
    "tags": []
   },
   "outputs": [],
   "source": [
    "# Create the Alpaca API object\n",
    "\n",
    "alpaca = tradeapi.REST(\n",
    "    alpaca_api_key,\n",
    "    alpaca_secret_key,\n",
    "    api_version='v2'\n",
    ")"
   ]
  },
  {
   "cell_type": "code",
   "execution_count": null,
   "metadata": {},
   "outputs": [],
   "source": [
    "# var ticker_symbol retrieves data for traget symbol\n",
    "ticker = [ticker_symbol]\n",
    "\n",
    "# Set timeframe to '1D'\n",
    "\n",
    "timeframe = '1D'\n",
    "\n",
    "# Set start and end datetimes of 1 year, between now and 365 days ago.\n",
    "\n",
    "start_date = pd.Timestamp('2015-05-01', tz='America/New_York').isoformat() # change dates to your range of interest using YYYY-MM-DD\n",
    "end_date = pd.Timestamp('2019-05-01', tz='America/New_York').isoformat() # change dates to your range of interest using YYYY-MM-DD\n",
    "\n",
    "# Get 1 year's worth of historical for target ticker symbol\n",
    "\n",
    "df_ticker = alpaca.get_barset(\n",
    "    ticker,\n",
    "    timeframe,\n",
    "    start=start_date,\n",
    "    end=end_date,\n",
    "    limit = 1000\n",
    ").df\n",
    "\n",
    "# Display sample data\n",
    "print(df_ticker.info())\n",
    "print()\n",
    "print(df_ticker.head())"
   ]
  },
  {
   "cell_type": "code",
   "execution_count": null,
   "metadata": {},
   "outputs": [],
   "source": [
    "# Create and empty DataFrame for closing prices\n",
    "\n",
    "df_closing_prices = pd.DataFrame()\n",
    "\n",
    "# Fetch the closing prices of target ticker symbol\n",
    "\n",
    "df_closing_prices[ticker_symbol] = df_ticker[ticker_symbol]['close']\n",
    "\n",
    "# Drop the time component of the date\n",
    "\n",
    "df_closing_prices.index = df_closing_prices.index.date\n",
    "\n",
    "# Display sample data\n",
    "print(df_closing_prices.info())\n",
    "print()\n",
    "print(df_closing_prices.head())"
   ]
  },
  {
   "cell_type": "markdown",
   "metadata": {},
   "source": [
    "## Change index to date - optional"
   ]
  },
  {
   "cell_type": "code",
   "execution_count": null,
   "metadata": {},
   "outputs": [],
   "source": [
    "index_name = df_closing_prices.index.names\n",
    "\n",
    "# to display the current index_name\n",
    "# print(index_name)\n",
    "\n",
    "df_closing_prices.index.names = ['date']\n",
    "\n",
    "# to reaname columns\n",
    "# df_daily_returns.rename(columns={'0': 'SP500 TSX 60'})\n",
    "\n",
    "# Display sample data\n",
    "print(df_closing_prices.info())\n",
    "print()\n",
    "print(df_closing_prices.head())"
   ]
  },
  {
   "cell_type": "markdown",
   "metadata": {},
   "source": [
    "## Save DataFrame to .csv"
   ]
  },
  {
   "cell_type": "code",
   "execution_count": null,
   "metadata": {},
   "outputs": [],
   "source": [
    "# .csv output location is the same folder as this .ipynb\n",
    "\n",
    "# df_closing_prices.to_csv (r''ticker_symbol'_historical.csv', index = True, header=True)\n",
    "\n",
    "df_closing_prices.to_csv(ticker_symbol+'.csv', sep=',', index =True, header=True)"
   ]
  }
 ],
 "metadata": {
  "kernel_info": {
   "name": "python3"
  },
  "kernelspec": {
   "display_name": "Python 3 (ipykernel)",
   "language": "python",
   "name": "python3"
  },
  "language_info": {
   "codemirror_mode": {
    "name": "ipython",
    "version": 3
   },
   "file_extension": ".py",
   "mimetype": "text/x-python",
   "name": "python",
   "nbconvert_exporter": "python",
   "pygments_lexer": "ipython3",
   "version": "3.7.11"
  },
  "nteract": {
   "version": "0.12.3"
  }
 },
 "nbformat": 4,
 "nbformat_minor": 4
}
