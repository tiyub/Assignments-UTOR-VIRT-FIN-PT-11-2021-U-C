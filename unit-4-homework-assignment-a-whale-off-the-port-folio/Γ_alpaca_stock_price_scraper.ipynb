{
 "cells": [
  {
   "cell_type": "markdown",
   "metadata": {},
   "source": [
    "# Alpaca API scarper  \n",
    "Based on class.ipynb titled: 'Demo: Normal Distribution of Stock Ticker Data'"
   ]
  },
  {
   "cell_type": "markdown",
   "metadata": {},
   "source": [
    "## Import Dependencies"
   ]
  },
  {
   "cell_type": "code",
   "execution_count": 1,
   "metadata": {
    "tags": []
   },
   "outputs": [],
   "source": [
    "# Import libraries and dependencies\n",
    "import os\n",
    "import pandas as pd\n",
    "import alpaca_trade_api as tradeapi"
   ]
  },
  {
   "cell_type": "code",
   "execution_count": 2,
   "metadata": {
    "tags": []
   },
   "outputs": [],
   "source": [
    "# Load .env environment variables\n",
    "from dotenv import load_dotenv\n",
    "load_dotenv()\n",
    "\n",
    "%matplotlib inline"
   ]
  },
  {
   "cell_type": "code",
   "execution_count": 3,
   "metadata": {
    "tags": []
   },
   "outputs": [],
   "source": [
    "# Set Alpaca API key and secret\n",
    "alpaca_api_key = os.getenv(\"ALPACA_API_KEY\")\n",
    "alpaca_secret_key = os.getenv(\"ALPACA_SECRET_KEY\")\n",
    "\n",
    "# Create the Alpaca API object\n",
    "alpaca = tradeapi.REST(\n",
    "    alpaca_api_key,\n",
    "    alpaca_secret_key,\n",
    "    api_version=\"v2\"\n",
    ")"
   ]
  },
  {
   "cell_type": "code",
   "execution_count": 4,
   "metadata": {},
   "outputs": [
    {
     "name": "stdout",
     "output_type": "stream",
     "text": [
      "<class 'pandas.core.frame.DataFrame'>\n",
      "DatetimeIndex: 866 entries, 2015-11-19 00:00:00-05:00 to 2019-05-01 00:00:00-04:00\n",
      "Data columns (total 5 columns):\n",
      " #   Column        Non-Null Count  Dtype  \n",
      "---  ------        --------------  -----  \n",
      " 0   (SQ, open)    866 non-null    float64\n",
      " 1   (SQ, high)    866 non-null    float64\n",
      " 2   (SQ, low)     866 non-null    float64\n",
      " 3   (SQ, close)   866 non-null    float64\n",
      " 4   (SQ, volume)  866 non-null    int64  \n",
      "dtypes: float64(4), int64(1)\n",
      "memory usage: 40.6 KB\n",
      "None\n",
      "\n",
      "                              SQ                                  \n",
      "                            open    high    low    close    volume\n",
      "time                                                              \n",
      "2015-11-19 00:00:00-05:00  11.20  14.780  11.05  13.0400  46006308\n",
      "2015-11-20 00:00:00-05:00  13.92  14.050  12.50  12.8000  15450066\n",
      "2015-11-23 00:00:00-05:00  13.00  13.150  12.10  12.1000   4859042\n",
      "2015-11-24 00:00:00-05:00  12.00  12.230  11.52  12.0200   4462720\n",
      "2015-11-25 00:00:00-05:00  12.12  12.400  11.85  11.9000   2903253\n",
      "2015-11-27 00:00:00-05:00  12.05  12.310  11.90  12.0500    886849\n",
      "2015-11-30 00:00:00-05:00  12.28  12.350  11.90  11.9400   1843301\n",
      "2015-12-01 00:00:00-05:00  12.12  12.180  11.89  11.9000   1169716\n",
      "2015-12-02 00:00:00-05:00  11.97  12.155  11.90  11.9698   1639534\n",
      "2015-12-03 00:00:00-05:00  12.04  12.250  11.91  11.9400   1362725\n"
     ]
    }
   ],
   "source": [
    "# !!!!! Modded for single ticker scraping, this solves for: SQ\n",
    "\n",
    "# Set the target ticker symbol, find+replace all instances in .ipynb\n",
    "ticker = ['SQ']\n",
    "\n",
    "# Set timeframe to '1D'\n",
    "timeframe = \"1D\"\n",
    "\n",
    "# Set start and end datetimes of 1 year, between now and 365 days ago.\n",
    "start_date = pd.Timestamp(\"2015-03-03\", tz=\"America/New_York\").isoformat()\n",
    "end_date = pd.Timestamp(\"2019-05-01\", tz=\"America/New_York\").isoformat()\n",
    "\n",
    "# Get 1 year's worth of historical data for Tesla and Coca-Cola\n",
    "df_ticker = alpaca.get_barset(\n",
    "    ticker,\n",
    "    timeframe,\n",
    "    start=start_date,\n",
    "    end=end_date,\n",
    "    limit = 1000\n",
    ").df\n",
    "\n",
    "# Display sample data\n",
    "print(df_ticker.info())\n",
    "print()\n",
    "print(df_ticker.head(10))"
   ]
  },
  {
   "cell_type": "code",
   "execution_count": 5,
   "metadata": {},
   "outputs": [
    {
     "name": "stdout",
     "output_type": "stream",
     "text": [
      "<class 'pandas.core.frame.DataFrame'>\n",
      "Index: 866 entries, 2015-11-19 to 2019-05-01\n",
      "Data columns (total 1 columns):\n",
      " #   Column  Non-Null Count  Dtype  \n",
      "---  ------  --------------  -----  \n",
      " 0   SQ      866 non-null    float64\n",
      "dtypes: float64(1)\n",
      "memory usage: 13.5+ KB\n",
      "None\n",
      "\n",
      "                 SQ\n",
      "2015-11-19  13.0400\n",
      "2015-11-20  12.8000\n",
      "2015-11-23  12.1000\n",
      "2015-11-24  12.0200\n",
      "2015-11-25  11.9000\n",
      "2015-11-27  12.0500\n",
      "2015-11-30  11.9400\n",
      "2015-12-01  11.9000\n",
      "2015-12-02  11.9698\n",
      "2015-12-03  11.9400\n"
     ]
    }
   ],
   "source": [
    "# Create and empty DataFrame for closing prices\n",
    "df_closing_prices = pd.DataFrame()\n",
    "\n",
    "# Fetch the closing prices of target ticker symbol\n",
    "df_closing_prices[\"SQ\"] = df_ticker[\"SQ\"][\"close\"]\n",
    "\n",
    "# Drop the time component of the date\n",
    "df_closing_prices.index = df_closing_prices.index.date\n",
    "\n",
    "# Display sample data\n",
    "print(df_closing_prices.info())\n",
    "print()\n",
    "print(df_closing_prices.head(10))"
   ]
  },
  {
   "cell_type": "markdown",
   "metadata": {},
   "source": [
    "## Change index to date - optional"
   ]
  },
  {
   "cell_type": "code",
   "execution_count": 6,
   "metadata": {},
   "outputs": [
    {
     "name": "stdout",
     "output_type": "stream",
     "text": [
      "                 SQ\n",
      "date               \n",
      "2015-11-19  13.0400\n",
      "2015-11-20  12.8000\n",
      "2015-11-23  12.1000\n",
      "2015-11-24  12.0200\n",
      "2015-11-25  11.9000\n",
      "2015-11-27  12.0500\n",
      "2015-11-30  11.9400\n",
      "2015-12-01  11.9000\n",
      "2015-12-02  11.9698\n",
      "2015-12-03  11.9400\n"
     ]
    }
   ],
   "source": [
    "index_name = df_closing_prices.index.names\n",
    "\n",
    "# to display the current index_name\n",
    "# print(index_name)\n",
    "\n",
    "df_closing_prices.index.names = ['date']\n",
    "\n",
    "# to reaname columns\n",
    "# df_daily_returns.rename(columns={'0': 'SP500 TSX 60'})\n",
    "\n",
    "# Display sample data\n",
    "# print(df_closing_prices.info())\n",
    "# print()\n",
    "print(df_closing_prices.head(10))"
   ]
  },
  {
   "cell_type": "markdown",
   "metadata": {},
   "source": [
    "## Save DataFrame to .csv"
   ]
  },
  {
   "cell_type": "code",
   "execution_count": 7,
   "metadata": {},
   "outputs": [],
   "source": [
    "df_closing_prices.to_csv (r'output/SQ_Γ_historical.csv', index = True, header=True)"
   ]
  }
 ],
 "metadata": {
  "kernel_info": {
   "name": "python3"
  },
  "kernelspec": {
   "display_name": "Python 3 (ipykernel)",
   "language": "python",
   "name": "python3"
  },
  "language_info": {
   "codemirror_mode": {
    "name": "ipython",
    "version": 3
   },
   "file_extension": ".py",
   "mimetype": "text/x-python",
   "name": "python",
   "nbconvert_exporter": "python",
   "pygments_lexer": "ipython3",
   "version": "3.7.11"
  },
  "nteract": {
   "version": "0.12.3"
  }
 },
 "nbformat": 4,
 "nbformat_minor": 4
}
